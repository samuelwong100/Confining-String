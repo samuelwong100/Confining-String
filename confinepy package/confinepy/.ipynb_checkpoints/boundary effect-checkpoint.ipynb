{
 "cells": [
  {
   "cell_type": "code",
   "execution_count": 1,
   "metadata": {},
   "outputs": [],
   "source": [
    "from source import *"
   ]
  },
  {
   "cell_type": "code",
   "execution_count": 2,
   "metadata": {},
   "outputs": [],
   "source": [
    "def get_energy(L,R):\n",
    "    title_template = \"CS(N=3,charge=w1,bound=x1,L={},w={},h=0.1,R={},epsilon=0,sor=1.96,tol=1e-09,initial_kw=BPS,use_half_grid=True)\"\n",
    "    title = title_template.format(str(L),str(L),str(R))\n",
    "    sol = Solution_Viewer(title)\n",
    "    return sol.get_energy()"
   ]
  },
  {
   "cell_type": "code",
   "execution_count": 3,
   "metadata": {},
   "outputs": [],
   "source": [
    "energy_30_list = []\n",
    "energy_60_list = []\n",
    "R_array = np.arange(10,29)\n",
    "for R in R_array:\n",
    "    energy_30_list.append(get_energy(30,R))\n",
    "    energy_60_list.append(get_energy(60,R))\n",
    "energy_30_array = np.array(energy_30_list)\n",
    "energy_60_array = np.array(energy_60_list)"
   ]
  },
  {
   "cell_type": "code",
   "execution_count": 23,
   "metadata": {},
   "outputs": [
    {
     "data": {
      "image/png": "[encoded data removed]",
      "text/plain": [
       "<Figure size 432x288 with 1 Axes>"
      ]
     },
     "metadata": {
      "needs_background": "light"
     },
     "output_type": "display_data"
    }
   ],
   "source": [
    "plt.figure()\n",
    "plt.scatter(R_array,energy_30_array,color='blue', label=r\"grid=$30 \\times 30$\",marker=\"v\",)\n",
    "plt.scatter(R_array,energy_60_array,color='red', label=r\"grid=$60 \\times 60$\",marker=\"^\")\n",
    "plt.xlabel(\"R\")\n",
    "plt.ylabel(\"Energy\")\n",
    "plt.legend()\n",
    "plt.title(\"Boundary Effect Study\")\n",
    "plt.savefig(\"Boundary Effect Study.png\",dpi=500)"
   ]
  },
  {
   "cell_type": "code",
   "execution_count": null,
   "metadata": {},
   "outputs": [],
   "source": []
  },
  {
   "cell_type": "code",
   "execution_count": null,
   "metadata": {
    "scrolled": false
   },
   "outputs": [],
   "source": []
  },
  {
   "cell_type": "code",
   "execution_count": null,
   "metadata": {},
   "outputs": [],
   "source": []
  },
  {
   "cell_type": "code",
   "execution_count": null,
   "metadata": {},
   "outputs": [],
   "source": []
  }
 ],
 "metadata": {
  "kernelspec": {
   "display_name": "Python 3",
   "language": "python",
   "name": "python3"
  },
  "language_info": {
   "codemirror_mode": {
    "name": "ipython",
    "version": 3
   },
   "file_extension": ".py",
   "mimetype": "text/x-python",
   "name": "python",
   "nbconvert_exporter": "python",
   "pygments_lexer": "ipython3",
   "version": "3.7.6"
  }
 },
 "nbformat": 4,
 "nbformat_minor": 4
}
