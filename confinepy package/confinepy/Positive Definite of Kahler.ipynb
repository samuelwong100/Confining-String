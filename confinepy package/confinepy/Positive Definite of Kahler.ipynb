{
 "cells": [
  {
   "cell_type": "code",
   "execution_count": 30,
   "metadata": {},
   "outputs": [],
   "source": [
    "from source import *"
   ]
  },
  {
   "cell_type": "code",
   "execution_count": 31,
   "metadata": {},
   "outputs": [
    {
     "name": "stdout",
     "output_type": "stream",
     "text": [
      "Populating the interactive namespace from numpy and matplotlib\n"
     ]
    }
   ],
   "source": [
    "%pylab inline"
   ]
  },
  {
   "cell_type": "code",
   "execution_count": 49,
   "metadata": {},
   "outputs": [],
   "source": [
    "N_max = 30\n",
    "epsilon_number = 100\n",
    "epsilon_linspace = np.linspace(0,0.3,epsilon_number)\n",
    "N_arange = np.arange(2,N_max+1)\n",
    "\n",
    "phase_space = np.empty((N_max-1,epsilon_number),dtype=bool)\n",
    "for (i,N) in enumerate(N_arange):\n",
    "    for (j,epsilon) in enumerate(epsilon_linspace):\n",
    "        K = Kahler(N,epsilon)\n",
    "        phase_space[i][j] = K.is_positive_definite()"
   ]
  },
  {
   "cell_type": "code",
   "execution_count": 67,
   "metadata": {},
   "outputs": [
    {
     "data": {
      "image/png": "[encoded data removed]",
      "text/plain": [
       "<Figure size 432x288 with 1 Axes>"
      ]
     },
     "metadata": {
      "needs_background": "light"
     },
     "output_type": "display_data"
    }
   ],
   "source": [
    "plt.pcolormesh(N_arange,epsilon_linspace,phase_space.T,cmap=\"gray\")\n",
    "plt.hlines(y=0.10,xmin=2,xmax=30,color=\"red\",linestyles=\"dashed\")\n",
    "plt.xlabel('N')\n",
    "plt.ylabel('$\\epsilon$')\n",
    "plt.title(\"Valid Range of $\\epsilon$\")\n",
    "plt.savefig(\"Valid Range of epsilon.png\",dpi=300)"
   ]
  },
  {
   "cell_type": "code",
   "execution_count": null,
   "metadata": {},
   "outputs": [],
   "source": []
  },
  {
   "cell_type": "code",
   "execution_count": null,
   "metadata": {},
   "outputs": [],
   "source": []
  },
  {
   "cell_type": "code",
   "execution_count": null,
   "metadata": {},
   "outputs": [],
   "source": []
  }
 ],
 "metadata": {
  "kernelspec": {
   "display_name": "Python 3",
   "language": "python",
   "name": "python3"
  },
  "language_info": {
   "codemirror_mode": {
    "name": "ipython",
    "version": 3
   },
   "file_extension": ".py",
   "mimetype": "text/x-python",
   "name": "python",
   "nbconvert_exporter": "python",
   "pygments_lexer": "ipython3",
   "version": "3.7.6"
  }
 },
 "nbformat": 4,
 "nbformat_minor": 4
}
