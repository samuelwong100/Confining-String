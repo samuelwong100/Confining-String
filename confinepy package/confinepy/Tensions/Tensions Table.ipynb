{
 "cells": [
  {
   "cell_type": "code",
   "execution_count": 1,
   "metadata": {},
   "outputs": [],
   "source": [
    "import numpy as np"
   ]
  },
  {
   "cell_type": "code",
   "execution_count": 2,
   "metadata": {},
   "outputs": [
    {
     "name": "stdout",
     "output_type": "stream",
     "text": [
      "Populating the interactive namespace from numpy and matplotlib\n"
     ]
    }
   ],
   "source": [
    "%pylab inline"
   ]
  },
  {
   "cell_type": "code",
   "execution_count": 10,
   "metadata": {},
   "outputs": [],
   "source": [
    "data = np.load(\"tension.npz\")"
   ]
  },
  {
   "cell_type": "code",
   "execution_count": 18,
   "metadata": {},
   "outputs": [],
   "source": [
    "tensions = data['arr_0']"
   ]
  },
  {
   "cell_type": "code",
   "execution_count": 23,
   "metadata": {},
   "outputs": [
    {
     "name": "stdout",
     "output_type": "stream",
     "text": [
      "       0    1          2         3\n",
      "0    2.0  1.0   8.001357  0.002620\n",
      "1    3.0  1.0  10.421357  0.004220\n",
      "2    4.0  1.0  11.351606  0.005600\n",
      "3    4.0  2.0  11.415258  0.015448\n",
      "4    5.0  1.0  10.918622  0.004639\n",
      "5    5.0  2.0  11.961799  0.022811\n",
      "6    6.0  1.0  10.373350  0.004371\n",
      "7    6.0  2.0  12.309934  0.035832\n",
      "8    6.0  3.0  12.347990  0.042033\n",
      "9    7.0  1.0   9.957111  0.009266\n",
      "10   7.0  2.0  12.495512  0.034313\n",
      "11   7.0  3.0  12.687180  0.063737\n",
      "12   8.0  1.0   9.616909  0.000775\n",
      "13   8.0  2.0  12.434851  0.031497\n",
      "14   8.0  3.0  12.937766  0.094646\n",
      "15   8.0  4.0  12.873431  0.097860\n",
      "16   9.0  1.0   9.367552  0.001726\n",
      "17   9.0  2.0  12.237549  0.029651\n",
      "18   9.0  3.0  13.017813  0.090808\n",
      "19   9.0  4.0  13.212057  0.126864\n",
      "20  10.0  1.0   9.202495  0.018432\n",
      "21  10.0  2.0  12.002768  0.039118\n",
      "22  10.0  3.0  13.097877  0.085178\n",
      "23  10.0  4.0  13.304951  0.074383\n",
      "24  10.0  5.0  13.395927  0.087928\n"
     ]
    }
   ],
   "source": [
    "import pandas as pd\n",
    "print(pd.DataFrame(tensions))"
   ]
  },
  {
   "cell_type": "code",
   "execution_count": 24,
   "metadata": {},
   "outputs": [],
   "source": [
    "## convert your array into a dataframe\n",
    "df = pd.DataFrame(tensions)\n",
    "## save to xlsx file\n",
    "filepath = 'Tensions_Table.xlsx'\n",
    "df.to_excel(filepath, index=False)"
   ]
  },
  {
   "cell_type": "code",
   "execution_count": null,
   "metadata": {},
   "outputs": [],
   "source": []
  }
 ],
 "metadata": {
  "kernelspec": {
   "display_name": "Python 3",
   "language": "python",
   "name": "python3"
  },
  "language_info": {
   "codemirror_mode": {
    "name": "ipython",
    "version": 3
   },
   "file_extension": ".py",
   "mimetype": "text/x-python",
   "name": "python",
   "nbconvert_exporter": "python",
   "pygments_lexer": "ipython3",
   "version": "3.7.6"
  }
 },
 "nbformat": 4,
 "nbformat_minor": 4
}
