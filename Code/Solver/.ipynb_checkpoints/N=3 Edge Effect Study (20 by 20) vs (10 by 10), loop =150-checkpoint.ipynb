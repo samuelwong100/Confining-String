{
 "cells": [
  {
   "cell_type": "code",
   "execution_count": 1,
   "metadata": {},
   "outputs": [],
   "source": [
    "import numpy as np\n",
    "import matplotlib.pyplot as plt\n",
    "from Solution_Viewer import Solution_Viewer\n",
    "from Solver_Full_Grid import Solver_Full_Grid"
   ]
  },
  {
   "cell_type": "code",
   "execution_count": 2,
   "metadata": {
    "scrolled": false
   },
   "outputs": [
    {
     "ename": "EOFError",
     "evalue": "Ran out of input",
     "output_type": "error",
     "traceback": [
      "\u001b[1;31m---------------------------------------------------------------------------\u001b[0m",
      "\u001b[1;31mEOFError\u001b[0m                                  Traceback (most recent call last)",
      "\u001b[1;32m<ipython-input-2-a01dcfb9786b>\u001b[0m in \u001b[0;36m<module>\u001b[1;34m()\u001b[0m\n\u001b[0;32m      7\u001b[0m     \u001b[1;31m#file=\"../Results/Solutions/CS(N=3,charge=w1,bound=x1,L=20,w=20,h=0.1,R={},tol=1e-30,max_loop=150,x0=BPS,method=full grid)/\".format(R)\u001b[0m\u001b[1;33m\u001b[0m\u001b[1;33m\u001b[0m\u001b[0m\n\u001b[0;32m      8\u001b[0m     \u001b[1;31m#sol = Solution_Viewer(file)\u001b[0m\u001b[1;33m\u001b[0m\u001b[1;33m\u001b[0m\u001b[0m\n\u001b[1;32m----> 9\u001b[1;33m     \u001b[0msol\u001b[0m \u001b[1;33m=\u001b[0m \u001b[0mSolver_Full_Grid\u001b[0m\u001b[1;33m(\u001b[0m\u001b[0mN\u001b[0m\u001b[1;33m=\u001b[0m\u001b[1;36m3\u001b[0m\u001b[1;33m,\u001b[0m\u001b[0mcharge_arg\u001b[0m\u001b[1;33m=\u001b[0m\u001b[1;34m\"w1\"\u001b[0m\u001b[1;33m,\u001b[0m\u001b[0mbound_arg\u001b[0m\u001b[1;33m=\u001b[0m\u001b[1;34m\"x1\"\u001b[0m\u001b[1;33m,\u001b[0m\u001b[0mL\u001b[0m\u001b[1;33m=\u001b[0m\u001b[1;36m20\u001b[0m\u001b[1;33m,\u001b[0m\u001b[0mw\u001b[0m\u001b[1;33m=\u001b[0m\u001b[1;36m20\u001b[0m\u001b[1;33m,\u001b[0m\u001b[0mh\u001b[0m\u001b[1;33m=\u001b[0m\u001b[1;36m0.1\u001b[0m\u001b[1;33m,\u001b[0m\u001b[0mR\u001b[0m\u001b[1;33m=\u001b[0m\u001b[0mR\u001b[0m\u001b[1;33m,\u001b[0m\u001b[0mtol\u001b[0m\u001b[1;33m=\u001b[0m\u001b[1;36m1e-30\u001b[0m\u001b[1;33m,\u001b[0m\u001b[0mmax_loop\u001b[0m\u001b[1;33m=\u001b[0m\u001b[1;36m150\u001b[0m\u001b[1;33m,\u001b[0m\u001b[0mx0\u001b[0m\u001b[1;33m=\u001b[0m\u001b[1;34m\"BPS\"\u001b[0m\u001b[1;33m,\u001b[0m\u001b[0mdiagnose\u001b[0m\u001b[1;33m=\u001b[0m\u001b[1;32mTrue\u001b[0m\u001b[1;33m)\u001b[0m\u001b[1;33m\u001b[0m\u001b[0m\n\u001b[0m\u001b[0;32m     10\u001b[0m     \u001b[0msol\u001b[0m\u001b[1;33m.\u001b[0m\u001b[0mplot_potential_energy_density\u001b[0m\u001b[1;33m(\u001b[0m\u001b[1;33m)\u001b[0m\u001b[1;33m\u001b[0m\u001b[0m\n\u001b[0;32m     11\u001b[0m     \u001b[0mR_list_1\u001b[0m\u001b[1;33m.\u001b[0m\u001b[0mappend\u001b[0m\u001b[1;33m(\u001b[0m\u001b[0mR\u001b[0m\u001b[1;33m)\u001b[0m\u001b[1;33m\u001b[0m\u001b[0m\n",
      "\u001b[1;32m~\\Documents\\GitHub\\Confining-String\\Code\\Solver\\Solver_Full_Grid.py\u001b[0m in \u001b[0;36mSolver_Full_Grid\u001b[1;34m(N, charge_arg, bound_arg, L, w, h, R, tol, max_loop, x0, diagnose)\u001b[0m\n\u001b[0;32m     20\u001b[0m                       \"full grid\")\n\u001b[0;32m     21\u001b[0m     \u001b[1;32mif\u001b[0m \u001b[0mos\u001b[0m\u001b[1;33m.\u001b[0m\u001b[0mpath\u001b[0m\u001b[1;33m.\u001b[0m\u001b[0mexists\u001b[0m\u001b[1;33m(\u001b[0m\u001b[0mtitle\u001b[0m\u001b[1;33m)\u001b[0m\u001b[1;33m:\u001b[0m\u001b[1;33m\u001b[0m\u001b[0m\n\u001b[1;32m---> 22\u001b[1;33m         \u001b[0msol\u001b[0m \u001b[1;33m=\u001b[0m \u001b[0mSolution_Viewer\u001b[0m\u001b[1;33m(\u001b[0m\u001b[0mtitle\u001b[0m\u001b[1;33m)\u001b[0m\u001b[1;33m\u001b[0m\u001b[0m\n\u001b[0m\u001b[0;32m     23\u001b[0m     \u001b[1;32melse\u001b[0m\u001b[1;33m:\u001b[0m\u001b[1;33m\u001b[0m\u001b[0m\n\u001b[0;32m     24\u001b[0m         \u001b[0mcharge\u001b[0m \u001b[1;33m=\u001b[0m \u001b[0mSigma_Critical\u001b[0m\u001b[1;33m(\u001b[0m\u001b[0mN\u001b[0m\u001b[1;33m,\u001b[0m\u001b[0mcharge_arg\u001b[0m\u001b[1;33m)\u001b[0m\u001b[1;33m\u001b[0m\u001b[0m\n",
      "\u001b[1;32m~\\Documents\\GitHub\\Confining-String\\Code\\Solver\\Solution_Viewer.py\u001b[0m in \u001b[0;36m__init__\u001b[1;34m(self, title)\u001b[0m\n\u001b[0;32m     37\u001b[0m         \u001b[1;32mif\u001b[0m \u001b[0mos\u001b[0m\u001b[1;33m.\u001b[0m\u001b[0mpath\u001b[0m\u001b[1;33m.\u001b[0m\u001b[0mexists\u001b[0m\u001b[1;33m(\u001b[0m\u001b[0mtitle\u001b[0m\u001b[1;33m+\u001b[0m\u001b[1;34m\"core_dict\"\u001b[0m\u001b[1;33m)\u001b[0m\u001b[1;33m:\u001b[0m\u001b[1;33m\u001b[0m\u001b[0m\n\u001b[0;32m     38\u001b[0m             \u001b[0mpickle_in\u001b[0m \u001b[1;33m=\u001b[0m \u001b[0mopen\u001b[0m\u001b[1;33m(\u001b[0m\u001b[0mtitle\u001b[0m\u001b[1;33m+\u001b[0m\u001b[1;34m\"core_dict\"\u001b[0m\u001b[1;33m,\u001b[0m\u001b[1;34m\"rb\"\u001b[0m\u001b[1;33m)\u001b[0m\u001b[1;33m\u001b[0m\u001b[0m\n\u001b[1;32m---> 39\u001b[1;33m             \u001b[0mcore_dict\u001b[0m \u001b[1;33m=\u001b[0m \u001b[0mpickle\u001b[0m\u001b[1;33m.\u001b[0m\u001b[0mload\u001b[0m\u001b[1;33m(\u001b[0m\u001b[0mpickle_in\u001b[0m\u001b[1;33m)\u001b[0m\u001b[1;33m\u001b[0m\u001b[0m\n\u001b[0m\u001b[0;32m     40\u001b[0m             \u001b[0mself\u001b[0m\u001b[1;33m.\u001b[0m\u001b[0mcore_dict\u001b[0m \u001b[1;33m=\u001b[0m \u001b[0mcore_dict\u001b[0m\u001b[1;33m\u001b[0m\u001b[0m\n\u001b[0;32m     41\u001b[0m             \u001b[0mself\u001b[0m\u001b[1;33m.\u001b[0m\u001b[0mN\u001b[0m \u001b[1;33m=\u001b[0m \u001b[0mcore_dict\u001b[0m\u001b[1;33m[\u001b[0m\u001b[1;34m\"N\"\u001b[0m\u001b[1;33m]\u001b[0m\u001b[1;33m\u001b[0m\u001b[0m\n",
      "\u001b[1;31mEOFError\u001b[0m: Ran out of input"
     ]
    }
   ],
   "source": [
    "R_list_1 = []\n",
    "energy_list_1 = []\n",
    "R_list_2 = []\n",
    "energy_list_2 = []\n",
    "\n",
    "for R in range(1,11):\n",
    "    #file=\"../Results/Solutions/CS(N=3,charge=w1,bound=x1,L=20,w=20,h=0.1,R={},tol=1e-30,max_loop=150,x0=BPS,method=full grid)/\".format(R)\n",
    "    #sol = Solution_Viewer(file)\n",
    "    sol = Solver_Full_Grid(N=3,charge_arg=\"w1\",bound_arg=\"x1\",L=20,w=20,h=0.1,R=R,tol=1e-30,max_loop=150,x0=\"BPS\",diagnose=True)\n",
    "    sol.plot_potential_energy_density()\n",
    "    R_list_1.append(R)\n",
    "    energy_list_1.append(sol.get_energy())\n",
    "R_1 = np.array(R_list_1)\n",
    "energy_1 = np.array(energy_list_1)\n",
    "    \n",
    "for R in range(1,10):\n",
    "    #file=\"../Results/Solutions/CS(N=2,charge=w1,bound=x0,L=10,w=10,h=0.1,R={},tol=1e-30,max_loop=150,x0=BPS,method=full grid)/\".format(R)\n",
    "    #sol = Solution_Viewer(file)\n",
    "    sol = Solver_Full_Grid(N=3,charge_arg=\"w1\",bound_arg=\"x1\",L=10,w=10,h=0.1,R=R,tol=1e-30,max_loop=150,x0=\"BPS\",diagnose=True)\n",
    "    sol.plot_potential_energy_density()\n",
    "    R_list_2.append(R)\n",
    "    energy_list_2.append(sol.get_energy())\n",
    "R_2 = np.array(R_list_2)\n",
    "energy_2 = np.array(energy_list_2)"
   ]
  },
  {
   "cell_type": "code",
   "execution_count": null,
   "metadata": {},
   "outputs": [],
   "source": [
    "plt.figure()\n",
    "plt.scatter(R_1,energy_1,color=\"blue\",s=5,label=\"grid=(20,20)\")\n",
    "plt.scatter(R_2,energy_2,color=\"red\",s=5,label=\"grid=(10,10)\")\n",
    "plt.ylabel('Energy')\n",
    "plt.xlabel(\"R\")\n",
    "plt.legend()\n",
    "plt.title(\"N=3 Edge Effeect\")\n",
    "plt.savefig(\"N=3_Edge_Effect.png\",dpi=300)\n",
    "plt.show()"
   ]
  },
  {
   "cell_type": "code",
   "execution_count": null,
   "metadata": {},
   "outputs": [],
   "source": []
  }
 ],
 "metadata": {
  "kernelspec": {
   "display_name": "Python 3",
   "language": "python",
   "name": "python3"
  },
  "language_info": {
   "codemirror_mode": {
    "name": "ipython",
    "version": 3
   },
   "file_extension": ".py",
   "mimetype": "text/x-python",
   "name": "python",
   "nbconvert_exporter": "python",
   "pygments_lexer": "ipython3",
   "version": "3.7.0"
  }
 },
 "nbformat": 4,
 "nbformat_minor": 2
}
