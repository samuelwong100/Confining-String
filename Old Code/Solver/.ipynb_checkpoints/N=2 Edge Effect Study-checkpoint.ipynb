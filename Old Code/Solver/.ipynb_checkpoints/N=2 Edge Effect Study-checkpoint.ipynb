{
 "cells": [
  {
   "cell_type": "code",
   "execution_count": 8,
   "metadata": {},
   "outputs": [],
   "source": [
    "import numpy as np\n",
    "import matplotlib.pyplot as plt\n",
    "from Solution_Viewer import Solution_Viewer"
   ]
  },
  {
   "cell_type": "code",
   "execution_count": 9,
   "metadata": {
    "scrolled": false
   },
   "outputs": [],
   "source": [
    "R_list_1 = []\n",
    "energy_list_1 = []\n",
    "R_list_2 = []\n",
    "energy_list_2 = []\n",
    "\n",
    "for R in range(1,29):\n",
    "    file=\"../Results/Solutions/CS(N=2,charge=w1,bound=x0,L=30,w=30,h=0.1,R={},tol=1e-30,max_loop=300,x0=None,method=full grid)/\".format(R)\n",
    "    sol = Solution_Viewer(file)\n",
    "    R_list_1.append(R)\n",
    "    energy_list_1.append(sol.get_energy())\n",
    "R_1 = np.array(R_list_1)\n",
    "energy_1 = np.array(energy_list_1)\n",
    "    \n",
    "for R in range(1,15):\n",
    "    file=\"../Results/Solutions/CS(N=2,charge=w1,bound=x0,L=15,w=15,h=0.1,R={},tol=1e-30,max_loop=300,x0=None,method=full grid)/\".format(R)\n",
    "    sol = Solution_Viewer(file)\n",
    "    R_list_2.append(R)\n",
    "    energy_list_2.append(sol.get_energy())\n",
    "R_2 = np.array(R_list_2)\n",
    "energy_2 = np.array(energy_list_2)"
   ]
  },
  {
   "cell_type": "code",
   "execution_count": 13,
   "metadata": {},
   "outputs": [
    {
     "data": {
      "image/png": "[encoded data removed]",
      "text/plain": [
       "<Figure size 432x288 with 1 Axes>"
      ]
     },
     "metadata": {
      "needs_background": "light"
     },
     "output_type": "display_data"
    }
   ],
   "source": [
    "plt.figure()\n",
    "plt.scatter(R_1,energy_1,color=\"blue\",s=5,label=\"grid=(30,30)\")\n",
    "plt.scatter(R_2,energy_2,color=\"red\",s=5,label=\"grid=(15,15)\")\n",
    "plt.ylabel('Energy')\n",
    "plt.xlabel(\"R\")\n",
    "plt.legend()\n",
    "plt.title(\"N=2 Edge Effeect\")\n",
    "plt.savefig(\"N=2_Edge_Effect.png\",dpi=300)\n",
    "plt.show()"
   ]
  },
  {
   "cell_type": "code",
   "execution_count": null,
   "metadata": {},
   "outputs": [],
   "source": []
  }
 ],
 "metadata": {
  "kernelspec": {
   "display_name": "Python 3",
   "language": "python",
   "name": "python3"
  },
  "language_info": {
   "codemirror_mode": {
    "name": "ipython",
    "version": 3
   },
   "file_extension": ".py",
   "mimetype": "text/x-python",
   "name": "python",
   "nbconvert_exporter": "python",
   "pygments_lexer": "ipython3",
   "version": "3.7.0"
  }
 },
 "nbformat": 4,
 "nbformat_minor": 2
}
